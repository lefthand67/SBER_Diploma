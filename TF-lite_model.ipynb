{
 "cells": [
  {
   "cell_type": "markdown",
   "id": "a837bc35-64d6-458b-a3c1-0019a49e5494",
   "metadata": {},
   "source": [
    "# DEVICE-BASED MODELS WITH TENSORFLOW LITE from [DeepLearning.AI](https://www.coursera.org/learn/device-based-models-tensorflow)"
   ]
  },
  {
   "cell_type": "markdown",
   "id": "c4aaf420-8450-45de-b84d-efef12fd52ea",
   "metadata": {},
   "source": [
    "# Transfer Learning with TensorFlow Hub for TFLite"
   ]
  },
  {
   "cell_type": "code",
   "execution_count": 106,
   "id": "b52b3f0b-0c78-42a4-a667-9580a5277ed4",
   "metadata": {
    "execution": {
     "iopub.execute_input": "2023-03-05T15:10:36.156128Z",
     "iopub.status.busy": "2023-03-05T15:10:36.154134Z",
     "iopub.status.idle": "2023-03-05T15:10:36.171123Z",
     "shell.execute_reply": "2023-03-05T15:10:36.169126Z",
     "shell.execute_reply.started": "2023-03-05T15:10:36.156128Z"
    },
    "tags": []
   },
   "outputs": [
    {
     "name": "stdout",
     "output_type": "stream",
     "text": [
      "• Using TensorFlow Version: 2.11.0\n",
      "• Using TensorFlow Hub Version:  0.12.0\n",
      "• GPU Device Not Found. Running on CPU\n"
     ]
    }
   ],
   "source": [
    "import numpy as np\n",
    "import matplotlib.pylab as plt\n",
    "\n",
    "import tensorflow as tf\n",
    "import tensorflow_hub as hub\n",
    "import tensorflow_datasets as tfds\n",
    "tfds.disable_progress_bar()\n",
    "\n",
    "from tqdm import tqdm\n",
    "\n",
    "print(\"\\u2022 Using TensorFlow Version:\", tf.__version__)\n",
    "print(\"\\u2022 Using TensorFlow Hub Version: \", hub.__version__)\n",
    "print('\\u2022 GPU Device Found.' if tf.config.list_physical_devices('GPU') else '\\u2022 GPU Device Not Found. Running on CPU')"
   ]
  },
  {
   "cell_type": "markdown",
   "id": "2819c55e-08c2-4e32-98c5-404587ef3526",
   "metadata": {
    "jp-MarkdownHeadingCollapsed": true,
    "tags": []
   },
   "source": [
    "### Data Preprocessing"
   ]
  },
  {
   "cell_type": "markdown",
   "id": "857e9ee6-d6c5-40db-b75a-f7c40ee49b6b",
   "metadata": {},
   "source": [
    "Use [TensorFlow Datasets](http://tensorflow.org/datasets) to load the cats and dogs dataset.\n",
    "\n",
    "This `tfds` package is the easiest way to load pre-defined data. If you have your own data, and are interested in importing using it with TensorFlow see loading image data (TensorFlowLearn/TensorFlowTutorials/02_Load and Preprocess Data/images.ipynb).\n",
    "\n",
    "The `tfds.load` method downloads and caches the data, and returns a `tf.data.Dataset` object. These objects provide powerful, efficient methods for manipulating data and piping it into your model.\n",
    "\n",
    "Since `\"cats_vs_dog\"` only has one defined split, `train`, we are going to divide that into (train, validation, test) with 80%, 10%, 10% of the data respectively."
   ]
  },
  {
   "cell_type": "code",
   "execution_count": 14,
   "id": "40876e40-60e1-489d-8795-7432d47ebb15",
   "metadata": {
    "execution": {
     "iopub.execute_input": "2023-03-04T20:01:29.940123Z",
     "iopub.status.busy": "2023-03-04T20:01:29.939124Z",
     "iopub.status.idle": "2023-03-04T20:01:30.379141Z",
     "shell.execute_reply": "2023-03-04T20:01:30.376142Z",
     "shell.execute_reply.started": "2023-03-04T20:01:29.940123Z"
    },
    "tags": []
   },
   "outputs": [],
   "source": [
    "(train_examples, validation_examples, test_examples), info = tfds.load(\n",
    "                \"cats_vs_dogs\",\n",
    "                data_dir='./data',\n",
    "                with_info=True,\n",
    "                as_supervised=True,\n",
    "                split=['train[:80%]', 'train[80%:90%]', 'train[90%:]']\n",
    ")\n",
    "\n",
    "num_examples = info.splits['train'].num_examples\n",
    "num_classes = info.features['label'].num_classes"
   ]
  },
  {
   "cell_type": "code",
   "execution_count": 10,
   "id": "f22667a9-92ef-4b4b-b435-025a2320bf85",
   "metadata": {
    "execution": {
     "iopub.execute_input": "2023-03-04T19:35:25.253292Z",
     "iopub.status.busy": "2023-03-04T19:35:25.251294Z",
     "iopub.status.idle": "2023-03-04T19:35:26.452218Z",
     "shell.execute_reply": "2023-03-04T19:35:26.450220Z",
     "shell.execute_reply.started": "2023-03-04T19:35:25.253292Z"
    },
    "tags": []
   },
   "outputs": [
    {
     "data": {
      "text/plain": [
       "<tensorflow_datasets.image_classification.cats_vs_dogs.CatsVsDogs at 0x225fc405cd0>"
      ]
     },
     "execution_count": 10,
     "metadata": {},
     "output_type": "execute_result"
    }
   ],
   "source": [
    "tfds.image_classification.CatsVsDogs()"
   ]
  },
  {
   "cell_type": "markdown",
   "id": "2022ad3f-940c-431b-9de0-c678a60d4276",
   "metadata": {},
   "source": [
    "## Experiment"
   ]
  },
  {
   "cell_type": "code",
   "execution_count": 56,
   "id": "82db77c9-3a76-41e7-a7d7-e82b7b44d766",
   "metadata": {
    "execution": {
     "iopub.execute_input": "2023-03-05T11:50:57.100980Z",
     "iopub.status.busy": "2023-03-05T11:50:57.099979Z",
     "iopub.status.idle": "2023-03-05T11:53:22.880457Z",
     "shell.execute_reply": "2023-03-05T11:53:22.878739Z",
     "shell.execute_reply.started": "2023-03-05T11:50:57.100980Z"
    },
    "jupyter": {
     "source_hidden": true
    },
    "tags": []
   },
   "outputs": [],
   "source": [
    "# import urllib.request, urllib.error\n",
    "# import zipfile\n",
    "# import os\n",
    "\n",
    "# # Downloading the zip file\n",
    "# url = 'https://download.microsoft.com/download/3/E/1/3E1C3F21-ECDB-4869-8368-6DEBA77B919F/kagglecatsanddogs_5340.zip'\n",
    "# fname = 'cats_vs_dogs'\n",
    "# local_zip = urllib.request.urlretrieve(url, fname + '.zip')"
   ]
  },
  {
   "cell_type": "code",
   "execution_count": 76,
   "id": "5e135cb4-e158-4328-94e9-6188eab9e410",
   "metadata": {
    "execution": {
     "iopub.execute_input": "2023-03-05T12:03:47.250108Z",
     "iopub.status.busy": "2023-03-05T12:03:47.249110Z",
     "iopub.status.idle": "2023-03-05T12:03:47.264100Z",
     "shell.execute_reply": "2023-03-05T12:03:47.262102Z",
     "shell.execute_reply.started": "2023-03-05T12:03:47.250108Z"
    },
    "jupyter": {
     "source_hidden": true
    },
    "tags": []
   },
   "outputs": [
    {
     "data": {
      "text/plain": [
       "'cats_vs_dogs.zip'"
      ]
     },
     "execution_count": 76,
     "metadata": {},
     "output_type": "execute_result"
    }
   ],
   "source": [
    "# local_zip = fname + '.zip'\n",
    "# local_zip"
   ]
  },
  {
   "cell_type": "code",
   "execution_count": 77,
   "id": "fbe860fa-07af-4e20-973d-9483ce4191b1",
   "metadata": {
    "execution": {
     "iopub.execute_input": "2023-03-05T12:03:59.102314Z",
     "iopub.status.busy": "2023-03-05T12:03:59.101312Z",
     "iopub.status.idle": "2023-03-05T12:03:59.943734Z",
     "shell.execute_reply": "2023-03-05T12:03:59.939738Z",
     "shell.execute_reply.started": "2023-03-05T12:03:59.102314Z"
    },
    "jupyter": {
     "source_hidden": true
    },
    "tags": []
   },
   "outputs": [],
   "source": [
    "# # unzipping it to a current directory\n",
    "# with zipfile.ZipFile(local_zip, 'r') as zip_ref:\n",
    "#     zip_ref.extract('PetImages', './data')"
   ]
  },
  {
   "cell_type": "code",
   "execution_count": 69,
   "id": "ac2086ac-f2f2-4262-90b4-689cd1c25e40",
   "metadata": {
    "execution": {
     "iopub.execute_input": "2023-03-05T12:00:38.786205Z",
     "iopub.status.busy": "2023-03-05T12:00:38.786205Z",
     "iopub.status.idle": "2023-03-05T12:00:38.805708Z",
     "shell.execute_reply": "2023-03-05T12:00:38.803710Z",
     "shell.execute_reply.started": "2023-03-05T12:00:38.786205Z"
    },
    "jupyter": {
     "source_hidden": true
    },
    "tags": []
   },
   "outputs": [],
   "source": [
    "# # renaming the folder from the archive\n",
    "# # and keeping the directory we need\n",
    "# os.renames('./data/PetImages',\n",
    "#            f'./data/{fname}')"
   ]
  },
  {
   "cell_type": "code",
   "execution_count": 78,
   "id": "cad9df6c-b21a-4f37-a7e8-108f5885dc35",
   "metadata": {
    "execution": {
     "iopub.execute_input": "2023-03-05T12:08:00.868601Z",
     "iopub.status.busy": "2023-03-05T12:08:00.867602Z",
     "iopub.status.idle": "2023-03-05T12:08:00.889590Z",
     "shell.execute_reply": "2023-03-05T12:08:00.887593Z",
     "shell.execute_reply.started": "2023-03-05T12:08:00.868601Z"
    },
    "jupyter": {
     "source_hidden": true
    },
    "tags": []
   },
   "outputs": [],
   "source": [
    "# # deleting the zip file from system\n",
    "# os.remove(fname + '.zip')"
   ]
  },
  {
   "cell_type": "code",
   "execution_count": 8,
   "id": "deff19ac-0be2-4797-b614-b1128d0b01d2",
   "metadata": {
    "execution": {
     "iopub.execute_input": "2023-03-04T21:19:05.553881Z",
     "iopub.status.busy": "2023-03-04T21:19:05.552881Z",
     "iopub.status.idle": "2023-03-04T21:19:05.569871Z",
     "shell.execute_reply": "2023-03-04T21:19:05.567873Z",
     "shell.execute_reply.started": "2023-03-04T21:19:05.553881Z"
    },
    "jupyter": {
     "source_hidden": true
    },
    "tags": []
   },
   "outputs": [],
   "source": [
    "# from pathlib import Path\n",
    "\n",
    "# # Базовая директория\n",
    "# base_dir = Path('./data/cats_vs_dogs')\n",
    "# # base_dir = f'/content/drive/MyDrive/Sber DS/Diploma/data/cats_vs_dogs/'  # for colab\n",
    "# classes = list(base_dir.iterdir())\n",
    "\n",
    "# # и ее содержимое\n",
    "# print(\"Содержимое базовой директории:\")\n",
    "# print(classes)"
   ]
  },
  {
   "cell_type": "code",
   "execution_count": 26,
   "id": "0d7804b5-b115-4a98-8800-b5215e9533de",
   "metadata": {
    "execution": {
     "iopub.execute_input": "2023-03-04T20:43:34.060244Z",
     "iopub.status.busy": "2023-03-04T20:43:34.059248Z",
     "iopub.status.idle": "2023-03-04T20:43:34.129540Z",
     "shell.execute_reply": "2023-03-04T20:43:34.127540Z",
     "shell.execute_reply.started": "2023-03-04T20:43:34.060244Z"
    },
    "jupyter": {
     "source_hidden": true
    },
    "tags": []
   },
   "outputs": [],
   "source": [
    "# base_dir = Path('./data').glob('**/*')\n",
    "\n",
    "## list the directories\n",
    "# [x for x in base_dir]  # or\n",
    "# list(base_dir.iterdir())\n",
    "\n",
    "# # list the files in the directory\n",
    "# [f for f in base_dir.iterdir() if f.is_file()]"
   ]
  },
  {
   "cell_type": "code",
   "execution_count": 130,
   "id": "80c6c2f7-cb27-41f1-9584-ba0f1b051013",
   "metadata": {
    "execution": {
     "iopub.execute_input": "2023-03-05T15:42:21.097271Z",
     "iopub.status.busy": "2023-03-05T15:42:21.096273Z",
     "iopub.status.idle": "2023-03-05T15:42:21.227198Z",
     "shell.execute_reply": "2023-03-05T15:42:21.225199Z",
     "shell.execute_reply.started": "2023-03-05T15:42:21.097271Z"
    },
    "tags": []
   },
   "outputs": [
    {
     "name": "stdout",
     "output_type": "stream",
     "text": [
      "Содержимое базовой директории:\n",
      "['Cat', 'Dog']\n"
     ]
    },
    {
     "data": {
      "text/plain": [
       "2"
      ]
     },
     "execution_count": 130,
     "metadata": {},
     "output_type": "execute_result"
    }
   ],
   "source": [
    "import os\n",
    "\n",
    "# Базовая директория\n",
    "base_dir = './data/cats_vs_dogs'\n",
    "# base_dir = '/content/drive/MyDrive/Sber DS/Diploma/data/cats_vs_dogs/'  # for colab\n",
    "classes = os.listdir(base_dir)\n",
    "\n",
    "num_classes = len(classes)\n",
    "\n",
    "# и ее содержимое\n",
    "print(\"Содержимое базовой директории:\")\n",
    "print(classes)\n",
    "num_classes"
   ]
  },
  {
   "cell_type": "markdown",
   "id": "f0f4a830-854e-4186-a62f-c4b6d0d96599",
   "metadata": {},
   "source": [
    "### Delete corrupted files"
   ]
  },
  {
   "cell_type": "code",
   "execution_count": 135,
   "id": "d521a724-02b7-47ab-b527-2e26413cc49d",
   "metadata": {
    "execution": {
     "iopub.execute_input": "2023-03-05T15:53:54.176074Z",
     "iopub.status.busy": "2023-03-05T15:53:54.175078Z",
     "iopub.status.idle": "2023-03-05T15:58:33.963155Z",
     "shell.execute_reply": "2023-03-05T15:58:33.960178Z",
     "shell.execute_reply.started": "2023-03-05T15:53:54.176074Z"
    },
    "tags": []
   },
   "outputs": [
    {
     "name": "stdout",
     "output_type": "stream",
     "text": [
      "[FILE_CORRUPT] data\\cats_vs_dogs\\Dog\\10158.jpg DELETED\n",
      "[FILE_CORRUPT] data\\cats_vs_dogs\\Dog\\10401.jpg DELETED\n",
      "[FILE_CORRUPT] data\\cats_vs_dogs\\Dog\\10747.jpg DELETED\n",
      "[FILE_CORRUPT] data\\cats_vs_dogs\\Dog\\10797.jpg DELETED\n",
      "[ERR] data\\cats_vs_dogs\\Dog\\11233.jpg: {{function_node __wrapped__DecodeImage_device_/job:localhost/replica:0/task:0/device:CPU:0}} Number of channels inherent in the image must be 1, 3 or 4, was 2 [Op:DecodeImage] DELETED\n",
      "[FILE_CORRUPT] data\\cats_vs_dogs\\Dog\\11410.jpg DELETED\n",
      "[FILE_CORRUPT] data\\cats_vs_dogs\\Dog\\11675.jpg DELETED\n",
      "[ERR] data\\cats_vs_dogs\\Dog\\11702.jpg: {{function_node __wrapped__DecodeImage_device_/job:localhost/replica:0/task:0/device:CPU:0}} Input is empty. [Op:DecodeImage] DELETED\n",
      "[FILE_CORRUPT] data\\cats_vs_dogs\\Dog\\11849.jpg DELETED\n",
      "[FILE_CORRUPT] data\\cats_vs_dogs\\Dog\\11853.jpg DELETED\n",
      "[ERR] data\\cats_vs_dogs\\Dog\\11912.jpg: {{function_node __wrapped__DecodeImage_device_/job:localhost/replica:0/task:0/device:CPU:0}} Number of channels inherent in the image must be 1, 3 or 4, was 2 [Op:DecodeImage] DELETED\n",
      "[FILE_CORRUPT] data\\cats_vs_dogs\\Dog\\1308.jpg DELETED\n",
      "[FILE_CORRUPT] data\\cats_vs_dogs\\Dog\\1866.jpg DELETED\n",
      "[ERR] data\\cats_vs_dogs\\Dog\\2317.jpg: {{function_node __wrapped__DecodeImage_device_/job:localhost/replica:0/task:0/device:CPU:0}} Number of channels inherent in the image must be 1, 3 or 4, was 2 [Op:DecodeImage] DELETED\n",
      "[FILE_CORRUPT] data\\cats_vs_dogs\\Dog\\2384.jpg DELETED\n",
      "[ERR] data\\cats_vs_dogs\\Dog\\2494.jpg: {{function_node __wrapped__DecodeImage_device_/job:localhost/replica:0/task:0/device:CPU:0}} Input size should match (header_size + row_size * abs_height) but they differ by 2 [Op:DecodeImage] DELETED\n",
      "[FILE_CORRUPT] data\\cats_vs_dogs\\Dog\\2688.jpg DELETED\n",
      "[FILE_CORRUPT] data\\cats_vs_dogs\\Dog\\2877.jpg DELETED\n",
      "[FILE_CORRUPT] data\\cats_vs_dogs\\Dog\\3136.jpg DELETED\n",
      "[FILE_CORRUPT] data\\cats_vs_dogs\\Dog\\3288.jpg DELETED\n",
      "[FILE_CORRUPT] data\\cats_vs_dogs\\Dog\\3588.jpg DELETED\n",
      "[FILE_CORRUPT] data\\cats_vs_dogs\\Dog\\4367.jpg DELETED\n",
      "[FILE_CORRUPT] data\\cats_vs_dogs\\Dog\\5604.jpg DELETED\n",
      "[FILE_CORRUPT] data\\cats_vs_dogs\\Dog\\5736.jpg DELETED\n",
      "[FILE_CORRUPT] data\\cats_vs_dogs\\Dog\\6059.jpg DELETED\n",
      "[FILE_CORRUPT] data\\cats_vs_dogs\\Dog\\6238.jpg DELETED\n",
      "[FILE_CORRUPT] data\\cats_vs_dogs\\Dog\\6718.jpg DELETED\n",
      "[FILE_CORRUPT] data\\cats_vs_dogs\\Dog\\7112.jpg DELETED\n",
      "[FILE_CORRUPT] data\\cats_vs_dogs\\Dog\\7133.jpg DELETED\n",
      "[FILE_CORRUPT] data\\cats_vs_dogs\\Dog\\7369.jpg DELETED\n",
      "[FILE_CORRUPT] data\\cats_vs_dogs\\Dog\\7459.jpg DELETED\n",
      "[FILE_CORRUPT] data\\cats_vs_dogs\\Dog\\7969.jpg DELETED\n",
      "[FILE_CORRUPT] data\\cats_vs_dogs\\Dog\\8730.jpg DELETED\n",
      "[FILE_CORRUPT] data\\cats_vs_dogs\\Dog\\9188.jpg DELETED\n",
      "[ERR] data\\cats_vs_dogs\\Dog\\9500.jpg: {{function_node __wrapped__DecodeImage_device_/job:localhost/replica:0/task:0/device:CPU:0}} Number of channels inherent in the image must be 1, 3 or 4, was 2 [Op:DecodeImage] DELETED\n"
     ]
    }
   ],
   "source": [
    "from pathlib import Path\n",
    "from tensorflow.io import read_file\n",
    "from tensorflow.image import decode_image\n",
    "\n",
    "base_dir = Path('./data/cats_vs_dogs')\n",
    "\n",
    "# data_dir is of type Path and points to the parent dir\n",
    "# parent dir contains the directories 'Dog' and 'Cat'\n",
    "# run the same code for the dir 'Cat' to remove corrupt files \n",
    "for image in sorted((base_dir /'Dog').glob('*')):\n",
    "    try:\n",
    "        img = read_file(str(image))\n",
    "        img = decode_image(img)\n",
    "        \n",
    "        if img.ndim != 3:\n",
    "            print(f\"[FILE_CORRUPT] {str(image).split('/')[-1]} DELETED\")\n",
    "            image.unlink()\n",
    "            \n",
    "    except Exception as e:\n",
    "        print(f\"[ERR] {str(image).split('/')[-1]}: {e} DELETED\")\n",
    "        image.unlink()"
   ]
  },
  {
   "cell_type": "code",
   "execution_count": 136,
   "id": "7b978a1e-a294-4907-92c2-14cb47d70fa6",
   "metadata": {
    "execution": {
     "iopub.execute_input": "2023-03-05T16:12:33.930839Z",
     "iopub.status.busy": "2023-03-05T16:12:33.929837Z",
     "iopub.status.idle": "2023-03-05T16:17:46.521488Z",
     "shell.execute_reply": "2023-03-05T16:17:46.519489Z",
     "shell.execute_reply.started": "2023-03-05T16:12:33.930839Z"
    },
    "tags": []
   },
   "outputs": [
    {
     "name": "stdout",
     "output_type": "stream",
     "text": [
      "[FILE_CORRUPT] data\\cats_vs_dogs\\Cat\\10125.jpg DELETED\n",
      "[ERR] data\\cats_vs_dogs\\Cat\\10404.jpg: {{function_node __wrapped__DecodeImage_device_/job:localhost/replica:0/task:0/device:CPU:0}} Unknown image file format. One of JPEG, PNG, GIF, BMP required. [Op:DecodeImage] DELETED\n",
      "[FILE_CORRUPT] data\\cats_vs_dogs\\Cat\\10501.jpg DELETED\n",
      "[FILE_CORRUPT] data\\cats_vs_dogs\\Cat\\10820.jpg DELETED\n",
      "[FILE_CORRUPT] data\\cats_vs_dogs\\Cat\\11210.jpg DELETED\n",
      "[FILE_CORRUPT] data\\cats_vs_dogs\\Cat\\11565.jpg DELETED\n",
      "[FILE_CORRUPT] data\\cats_vs_dogs\\Cat\\11874.jpg DELETED\n",
      "[FILE_CORRUPT] data\\cats_vs_dogs\\Cat\\11935.jpg DELETED\n",
      "[FILE_CORRUPT] data\\cats_vs_dogs\\Cat\\140.jpg DELETED\n",
      "[FILE_CORRUPT] data\\cats_vs_dogs\\Cat\\2663.jpg DELETED\n",
      "[FILE_CORRUPT] data\\cats_vs_dogs\\Cat\\3300.jpg DELETED\n",
      "[FILE_CORRUPT] data\\cats_vs_dogs\\Cat\\3491.jpg DELETED\n",
      "[ERR] data\\cats_vs_dogs\\Cat\\4351.jpg: {{function_node __wrapped__DecodeImage_device_/job:localhost/replica:0/task:0/device:CPU:0}} Input size should match (header_size + row_size * abs_height) but they differ by 2 [Op:DecodeImage] DELETED\n",
      "[FILE_CORRUPT] data\\cats_vs_dogs\\Cat\\4833.jpg DELETED\n",
      "[FILE_CORRUPT] data\\cats_vs_dogs\\Cat\\5553.jpg DELETED\n",
      "[FILE_CORRUPT] data\\cats_vs_dogs\\Cat\\660.jpg DELETED\n",
      "[ERR] data\\cats_vs_dogs\\Cat\\666.jpg: {{function_node __wrapped__DecodeImage_device_/job:localhost/replica:0/task:0/device:CPU:0}} Input is empty. [Op:DecodeImage] DELETED\n",
      "[FILE_CORRUPT] data\\cats_vs_dogs\\Cat\\7968.jpg DELETED\n",
      "[FILE_CORRUPT] data\\cats_vs_dogs\\Cat\\7978.jpg DELETED\n",
      "[FILE_CORRUPT] data\\cats_vs_dogs\\Cat\\8470.jpg DELETED\n",
      "[FILE_CORRUPT] data\\cats_vs_dogs\\Cat\\850.jpg DELETED\n",
      "[FILE_CORRUPT] data\\cats_vs_dogs\\Cat\\9171.jpg DELETED\n",
      "[FILE_CORRUPT] data\\cats_vs_dogs\\Cat\\936.jpg DELETED\n",
      "[FILE_CORRUPT] data\\cats_vs_dogs\\Cat\\9565.jpg DELETED\n",
      "[FILE_CORRUPT] data\\cats_vs_dogs\\Cat\\9778.jpg DELETED\n"
     ]
    }
   ],
   "source": [
    "for image in sorted((base_dir /'Cat').glob('*')):\n",
    "    try:\n",
    "        img = read_file(str(image))\n",
    "        img = decode_image(img)\n",
    "        \n",
    "        if img.ndim != 3:\n",
    "            print(f\"[FILE_CORRUPT] {str(image).split('/')[-1]} DELETED\")\n",
    "            image.unlink()\n",
    "            \n",
    "    except Exception as e:\n",
    "        print(f\"[ERR] {str(image).split('/')[-1]}: {e} DELETED\")\n",
    "        image.unlink()"
   ]
  },
  {
   "cell_type": "markdown",
   "id": "436edf0e-bf66-4e68-932d-ba4f43130c1e",
   "metadata": {},
   "source": [
    "Source: https://github.com/tensorflow/datasets/issues/2188"
   ]
  },
  {
   "cell_type": "markdown",
   "id": "b7a291c7-390c-45be-8ae6-6e0092ff320b",
   "metadata": {},
   "source": [
    "### Datasets creation"
   ]
  },
  {
   "cell_type": "code",
   "execution_count": 137,
   "id": "50f88422-7416-4bf7-b563-1488c6699761",
   "metadata": {
    "execution": {
     "iopub.execute_input": "2023-03-05T19:00:04.341592Z",
     "iopub.status.busy": "2023-03-05T19:00:04.339596Z",
     "iopub.status.idle": "2023-03-05T19:00:04.372576Z",
     "shell.execute_reply": "2023-03-05T19:00:04.370577Z",
     "shell.execute_reply.started": "2023-03-05T19:00:04.341592Z"
    },
    "tags": []
   },
   "outputs": [],
   "source": [
    "def datasets_prep(base_directory=base_dir,\n",
    "                  seed=123, validation_split=0.2,\n",
    "                  batch_size=32,\n",
    "                  image_size=IMAGE_SIZE, \n",
    "                  label_mode='binary'):\n",
    "    \n",
    "    train_ds = tf.keras.utils.image_dataset_from_directory(\n",
    "                            base_dir,\n",
    "                            label_mode=label_mode,\n",
    "                            validation_split=validation_split,\n",
    "                            subset='training',\n",
    "                            seed=seed,\n",
    "                            image_size=IMAGE_SIZE,\n",
    "                            batch_size=batch_size)\n",
    "    \n",
    "    val_ds = tf.keras.utils.image_dataset_from_directory(\n",
    "                            base_dir,\n",
    "                            label_mode=label_mode,\n",
    "                            validation_split=validation_split,\n",
    "                            subset='validation',\n",
    "                            seed=seed,\n",
    "                            image_size=IMAGE_SIZE,\n",
    "                            batch_size=batch_size)\n",
    "    \n",
    "    val_ds_num = len(val_ds)\n",
    "    take = int(val_ds_num/2)\n",
    "    test_ds = val_ds.take(take)\n",
    "    val_ds = val_ds.skip(take)\n",
    "    \n",
    "    print('Batches for testing:', test_ds.cardinality())\n",
    "    print('Batches for validating:', val_ds.cardinality())\n",
    "    \n",
    "    return train_ds, val_ds, test_ds"
   ]
  },
  {
   "cell_type": "code",
   "execution_count": 138,
   "id": "28b568a7-56b2-4bb6-95e6-8e738056cbd8",
   "metadata": {
    "execution": {
     "iopub.execute_input": "2023-03-05T19:00:05.451959Z",
     "iopub.status.busy": "2023-03-05T19:00:05.450960Z",
     "iopub.status.idle": "2023-03-05T19:00:05.595878Z",
     "shell.execute_reply": "2023-03-05T19:00:05.589881Z",
     "shell.execute_reply.started": "2023-03-05T19:00:05.451959Z"
    },
    "tags": []
   },
   "outputs": [
    {
     "name": "stdout",
     "output_type": "stream",
     "text": [
      "5\n",
      "test: [0, 1, 2, 3, 4]\n",
      "valid: [5, 6, 7, 8, 9]\n"
     ]
    }
   ],
   "source": [
    "# Проверка корректности формирования тестового датасета\n",
    "dataset = tf.data.Dataset.range(10)\n",
    "take = int(len(dataset)/2)\n",
    "print(take)\n",
    "\n",
    "test = dataset.take(take)\n",
    "print('test:', list(test.as_numpy_iterator()))\n",
    "dataset = dataset.skip(take)\n",
    "print('valid:', list(dataset.as_numpy_iterator()))"
   ]
  },
  {
   "cell_type": "code",
   "execution_count": 139,
   "id": "2b055aa1-c78e-473f-8507-eb3e3e40028d",
   "metadata": {
    "execution": {
     "iopub.execute_input": "2023-03-05T19:00:09.654514Z",
     "iopub.status.busy": "2023-03-05T19:00:09.653514Z",
     "iopub.status.idle": "2023-03-05T19:00:20.379399Z",
     "shell.execute_reply": "2023-03-05T19:00:20.378399Z",
     "shell.execute_reply.started": "2023-03-05T19:00:09.654514Z"
    },
    "tags": []
   },
   "outputs": [
    {
     "name": "stdout",
     "output_type": "stream",
     "text": [
      "Found 24929 files belonging to 2 classes.\n",
      "Using 19944 files for training.\n",
      "Found 24929 files belonging to 2 classes.\n",
      "Using 4985 files for validation.\n",
      "Batches for testing: tf.Tensor(78, shape=(), dtype=int64)\n",
      "Batches for validating: tf.Tensor(78, shape=(), dtype=int64)\n"
     ]
    }
   ],
   "source": [
    "train_batches, validation_batches, test_batches = datasets_prep()"
   ]
  },
  {
   "cell_type": "code",
   "execution_count": 140,
   "id": "2bd62447-e1b2-4ed4-a410-44a22524fc1c",
   "metadata": {
    "execution": {
     "iopub.execute_input": "2023-03-05T19:00:43.064031Z",
     "iopub.status.busy": "2023-03-05T19:00:43.062034Z",
     "iopub.status.idle": "2023-03-05T19:00:46.052282Z",
     "shell.execute_reply": "2023-03-05T19:00:46.050285Z",
     "shell.execute_reply.started": "2023-03-05T19:00:43.064031Z"
    },
    "tags": []
   },
   "outputs": [
    {
     "data": {
      "text/plain": [
       "TensorShape([32, 224, 224, 3])"
      ]
     },
     "execution_count": 140,
     "metadata": {},
     "output_type": "execute_result"
    }
   ],
   "source": [
    "for image_batch, label_batch in train_batches.take(1):\n",
    "    pass\n",
    "\n",
    "image_batch.shape"
   ]
  },
  {
   "cell_type": "markdown",
   "id": "9b7dacf7-e7f2-462e-a5ab-d9be7ffa5274",
   "metadata": {},
   "source": [
    "### AUTOTUNE"
   ]
  },
  {
   "cell_type": "code",
   "execution_count": null,
   "id": "411f377e-9cc6-419a-8c72-e89f2f998e46",
   "metadata": {},
   "outputs": [],
   "source": [
    "AUTOTUNE = tf.data.AUTOTUNE\n",
    "\n",
    "train_batches = train_batches.cache().prefetch(buffer_size=AUTOTUNE)\n",
    "validation_batches = validation_batches.cache().prefetch(buffer_size=AUTOTUNE)\n",
    "test_batches = test_batches.cache().prefetch(buffer_size=AUTOTUNE)"
   ]
  },
  {
   "cell_type": "markdown",
   "id": "a7f837e2-e34a-4213-8317-d2ee59e16dca",
   "metadata": {},
   "source": [
    "### Image rescaling layer"
   ]
  },
  {
   "cell_type": "code",
   "execution_count": 141,
   "id": "463f4d12-a7d7-4f9e-bf66-078c78c23e29",
   "metadata": {
    "execution": {
     "iopub.execute_input": "2023-03-05T19:00:50.165448Z",
     "iopub.status.busy": "2023-03-05T19:00:50.164450Z",
     "iopub.status.idle": "2023-03-05T19:00:50.251399Z",
     "shell.execute_reply": "2023-03-05T19:00:50.249400Z",
     "shell.execute_reply.started": "2023-03-05T19:00:50.165448Z"
    },
    "tags": []
   },
   "outputs": [],
   "source": [
    "rescale = tf.keras.Sequential([\n",
    "    tf.keras.layers.Rescaling(1./255,\n",
    "                              input_shape=IMAGE_SIZE + (3,),\n",
    "                              name='Rescaling')\n",
    "])"
   ]
  },
  {
   "cell_type": "markdown",
   "id": "d4f5dd19-4656-4eb1-b040-a5dcc623126c",
   "metadata": {},
   "source": [
    "### Select the Hub/TF2 Module to Use\n",
    "\n",
    "Hub modules for TF 1.x won't work here, please use one of the selections provided."
   ]
  },
  {
   "cell_type": "code",
   "execution_count": 142,
   "id": "875adcc7-20cd-49d4-897f-8e59ee478077",
   "metadata": {
    "execution": {
     "iopub.execute_input": "2023-03-05T19:00:51.820943Z",
     "iopub.status.busy": "2023-03-05T19:00:51.819944Z",
     "iopub.status.idle": "2023-03-05T19:00:51.898902Z",
     "shell.execute_reply": "2023-03-05T19:00:51.896904Z",
     "shell.execute_reply.started": "2023-03-05T19:00:51.820943Z"
    },
    "tags": []
   },
   "outputs": [
    {
     "name": "stdout",
     "output_type": "stream",
     "text": [
      "Using https://tfhub.dev/google/tf2-preview/mobilenet_v2/feature_vector/4 with input size (224, 224) and output dimension 1280\n"
     ]
    }
   ],
   "source": [
    "#@param [\"(\\\"mobilenet_v2\\\", 224, 1280)\", \"(\\\"inception_v3\\\", 299, 2048)\"] {type:\"raw\", allow-input: true}\n",
    "module_selection = (\"mobilenet_v2\", 224, 1280) \n",
    "handle_base, pixels, FV_SIZE = module_selection\n",
    "MODULE_HANDLE =\"https://tfhub.dev/google/tf2-preview/{}/feature_vector/4\".format(handle_base)\n",
    "IMAGE_SIZE = (pixels, pixels)\n",
    "print(\"Using {} with input size {} and output dimension {}\".format(MODULE_HANDLE, IMAGE_SIZE, FV_SIZE))"
   ]
  },
  {
   "cell_type": "markdown",
   "id": "a11b3148-81b0-492f-8ec0-7a6fc63f2d52",
   "metadata": {},
   "source": [
    "### Defining the Model\n",
    "\n",
    "All it takes is to put a linear classifier on top of the `feature_extractor_layer` with the Hub module.\n",
    "\n",
    "For speed, we start out with a non-trainable `feature_extractor_layer`, but you can also enable fine-tuning for greater accuracy."
   ]
  },
  {
   "cell_type": "code",
   "execution_count": 143,
   "id": "cae80f1a-cd89-4834-8095-39d897f78c64",
   "metadata": {
    "execution": {
     "iopub.execute_input": "2023-03-05T19:00:55.897954Z",
     "iopub.status.busy": "2023-03-05T19:00:55.896956Z",
     "iopub.status.idle": "2023-03-05T19:00:55.912948Z",
     "shell.execute_reply": "2023-03-05T19:00:55.910957Z",
     "shell.execute_reply.started": "2023-03-05T19:00:55.897954Z"
    },
    "tags": []
   },
   "outputs": [],
   "source": [
    "do_fine_tuning = False #@param {type:\"boolean\"}"
   ]
  },
  {
   "cell_type": "markdown",
   "id": "d1b59113-4516-49b9-bd4f-3a42620bb842",
   "metadata": {
    "tags": []
   },
   "source": [
    "Load TFHub Module"
   ]
  },
  {
   "cell_type": "code",
   "execution_count": 144,
   "id": "655f263b-1b05-405f-bde5-bcd1437a1748",
   "metadata": {
    "execution": {
     "iopub.execute_input": "2023-03-05T19:00:58.671354Z",
     "iopub.status.busy": "2023-03-05T19:00:58.670355Z",
     "iopub.status.idle": "2023-03-05T19:01:01.331693Z",
     "shell.execute_reply": "2023-03-05T19:01:01.330688Z",
     "shell.execute_reply.started": "2023-03-05T19:00:58.671354Z"
    },
    "tags": []
   },
   "outputs": [],
   "source": [
    "feature_extractor = hub.KerasLayer(\n",
    "                            MODULE_HANDLE,\n",
    "                            # input_shape=IMAGE_SIZE + (3,),\n",
    "                            output_shape=[FV_SIZE],\n",
    "                            trainable=do_fine_tuning\n",
    ")"
   ]
  },
  {
   "cell_type": "code",
   "execution_count": 145,
   "id": "b9e4ffaa-0092-4e5f-b888-9341fd3f58be",
   "metadata": {
    "execution": {
     "iopub.execute_input": "2023-03-05T19:01:06.367414Z",
     "iopub.status.busy": "2023-03-05T19:01:06.366415Z",
     "iopub.status.idle": "2023-03-05T19:01:07.879695Z",
     "shell.execute_reply": "2023-03-05T19:01:07.877694Z",
     "shell.execute_reply.started": "2023-03-05T19:01:06.367414Z"
    },
    "tags": []
   },
   "outputs": [
    {
     "name": "stdout",
     "output_type": "stream",
     "text": [
      "Building model with https://tfhub.dev/google/tf2-preview/mobilenet_v2/feature_vector/4\n",
      "Model: \"sequential_10\"\n",
      "_________________________________________________________________\n",
      " Layer (type)                Output Shape              Param #   \n",
      "=================================================================\n",
      " sequential_9 (Sequential)   (None, 224, 224, 3)       0         \n",
      "                                                                 \n",
      " keras_layer_4 (KerasLayer)  (None, 1280)              2257984   \n",
      "                                                                 \n",
      " dense_5 (Dense)             (None, 2)                 2562      \n",
      "                                                                 \n",
      "=================================================================\n",
      "Total params: 2,260,546\n",
      "Trainable params: 2,562\n",
      "Non-trainable params: 2,257,984\n",
      "_________________________________________________________________\n"
     ]
    }
   ],
   "source": [
    "print('Building model with', MODULE_HANDLE)\n",
    "\n",
    "model = tf.keras.Sequential([\n",
    "        rescale,\n",
    "        feature_extractor,\n",
    "        tf.keras.layers.Dense(num_classes, activation='softmax')\n",
    "])\n",
    "\n",
    "model.summary()"
   ]
  },
  {
   "cell_type": "code",
   "execution_count": 146,
   "id": "373ac18b-0e83-40e4-9a04-45c9cbd68e1d",
   "metadata": {
    "execution": {
     "iopub.execute_input": "2023-03-05T19:01:30.035420Z",
     "iopub.status.busy": "2023-03-05T19:01:30.033422Z",
     "iopub.status.idle": "2023-03-05T19:01:30.070401Z",
     "shell.execute_reply": "2023-03-05T19:01:30.068403Z",
     "shell.execute_reply.started": "2023-03-05T19:01:30.035420Z"
    },
    "tags": []
   },
   "outputs": [],
   "source": [
    "if do_fine_tuning:\n",
    "    model.compile(optimizer=tf.keras.optimizers.SGD(lr=0.002, momentum=0.9),\n",
    "                  loss=tf.keras.losses.SparseCategoricalCrossentropy(),\n",
    "                  metrics=['accuracy'])\n",
    "else:\n",
    "    model.compile(optimizer='adam',\n",
    "                  loss='sparse_categorical_crossentropy',\n",
    "                  metrics=['accuracy'])"
   ]
  },
  {
   "cell_type": "code",
   "execution_count": 147,
   "id": "098fbf8e-8287-4d1a-8bb3-4417046d1217",
   "metadata": {
    "execution": {
     "iopub.execute_input": "2023-03-05T19:01:31.665493Z",
     "iopub.status.busy": "2023-03-05T19:01:31.664497Z",
     "iopub.status.idle": "2023-03-05T19:17:16.852897Z",
     "shell.execute_reply": "2023-03-05T19:17:16.851953Z",
     "shell.execute_reply.started": "2023-03-05T19:01:31.665493Z"
    },
    "tags": []
   },
   "outputs": [
    {
     "name": "stdout",
     "output_type": "stream",
     "text": [
      "624/624 [==============================] - 945s 1s/step - loss: 0.0546 - accuracy: 0.9797 - val_loss: 0.0268 - val_accuracy: 0.9920\n"
     ]
    }
   ],
   "source": [
    "EPOCHS = 1\n",
    "\n",
    "hist = model.fit(train_batches,\n",
    "                 epochs=EPOCHS,\n",
    "                 validation_data=validation_batches)"
   ]
  },
  {
   "cell_type": "markdown",
   "id": "974d0c5e-33e6-4455-9ad8-e4eaa39b4ba9",
   "metadata": {},
   "source": [
    "### Export the Model"
   ]
  },
  {
   "cell_type": "code",
   "execution_count": 150,
   "id": "65823187-61d4-4ec2-a5e6-65631b8c58ed",
   "metadata": {
    "execution": {
     "iopub.execute_input": "2023-03-05T19:38:48.847658Z",
     "iopub.status.busy": "2023-03-05T19:38:48.846678Z",
     "iopub.status.idle": "2023-03-05T19:38:48.855651Z",
     "shell.execute_reply": "2023-03-05T19:38:48.853652Z",
     "shell.execute_reply.started": "2023-03-05T19:38:48.847658Z"
    },
    "tags": []
   },
   "outputs": [],
   "source": [
    "CATS_VS_DOGS_SAVED_MODEL = \"./saved/exp_saved_model\""
   ]
  },
  {
   "cell_type": "code",
   "execution_count": 151,
   "id": "35db244a-c71f-447a-8bd3-32926a8253fd",
   "metadata": {
    "execution": {
     "iopub.execute_input": "2023-03-05T19:38:49.706679Z",
     "iopub.status.busy": "2023-03-05T19:38:49.705680Z",
     "iopub.status.idle": "2023-03-05T19:39:42.774868Z",
     "shell.execute_reply": "2023-03-05T19:39:42.773863Z",
     "shell.execute_reply.started": "2023-03-05T19:38:49.706679Z"
    },
    "tags": []
   },
   "outputs": [
    {
     "name": "stderr",
     "output_type": "stream",
     "text": [
      "WARNING:absl:Found untraced functions such as _update_step_xla while saving (showing 1 of 1). These functions will not be directly callable after loading.\n"
     ]
    },
    {
     "name": "stdout",
     "output_type": "stream",
     "text": [
      "INFO:tensorflow:Assets written to: ./saved/exp_saved_model\\assets\n"
     ]
    },
    {
     "name": "stderr",
     "output_type": "stream",
     "text": [
      "INFO:tensorflow:Assets written to: ./saved/exp_saved_model\\assets\n"
     ]
    }
   ],
   "source": [
    "tf.saved_model.save(model, CATS_VS_DOGS_SAVED_MODEL)"
   ]
  },
  {
   "cell_type": "code",
   "execution_count": 153,
   "id": "44a080b1-ef14-42ce-8b30-347937bfa97e",
   "metadata": {
    "execution": {
     "iopub.execute_input": "2023-03-05T19:41:12.039165Z",
     "iopub.status.busy": "2023-03-05T19:41:12.038164Z",
     "iopub.status.idle": "2023-03-05T19:41:17.831963Z",
     "shell.execute_reply": "2023-03-05T19:41:17.829989Z",
     "shell.execute_reply.started": "2023-03-05T19:41:12.039165Z"
    },
    "tags": []
   },
   "outputs": [
    {
     "data": {
      "text/plain": [
       "<tensorflow.python.saved_model.load.Loader._recreate_base_user_object.<locals>._UserObject at 0x2d704838700>"
      ]
     },
     "execution_count": 153,
     "metadata": {},
     "output_type": "execute_result"
    }
   ],
   "source": [
    "loaded = tf.saved_model.load(CATS_VS_DOGS_SAVED_MODEL)\n",
    "loaded"
   ]
  },
  {
   "cell_type": "code",
   "execution_count": 154,
   "id": "c77acac6-380e-4f8a-918f-c5d465467e6c",
   "metadata": {
    "execution": {
     "iopub.execute_input": "2023-03-05T19:42:01.411262Z",
     "iopub.status.busy": "2023-03-05T19:42:01.410265Z",
     "iopub.status.idle": "2023-03-05T19:42:01.436247Z",
     "shell.execute_reply": "2023-03-05T19:42:01.434250Z",
     "shell.execute_reply.started": "2023-03-05T19:42:01.411262Z"
    }
   },
   "outputs": [
    {
     "name": "stdout",
     "output_type": "stream",
     "text": [
      "['serving_default']\n"
     ]
    }
   ],
   "source": [
    "print(list(loaded.signatures.keys()))"
   ]
  },
  {
   "cell_type": "code",
   "execution_count": 155,
   "id": "3947552d-3998-4af5-963e-6170b15a2cb4",
   "metadata": {
    "execution": {
     "iopub.execute_input": "2023-03-05T19:43:09.585206Z",
     "iopub.status.busy": "2023-03-05T19:43:09.584207Z",
     "iopub.status.idle": "2023-03-05T19:43:09.594200Z",
     "shell.execute_reply": "2023-03-05T19:43:09.593205Z",
     "shell.execute_reply.started": "2023-03-05T19:43:09.585206Z"
    },
    "tags": []
   },
   "outputs": [
    {
     "data": {
      "text/plain": [
       "<ConcreteFunction signature_wrapper(*, sequential_9_input) at 0x2D704389430>"
      ]
     },
     "execution_count": 155,
     "metadata": {},
     "output_type": "execute_result"
    }
   ],
   "source": [
    "infer = loaded.signatures['serving_default']\n",
    "infer"
   ]
  },
  {
   "cell_type": "code",
   "execution_count": 156,
   "id": "6cb947e8-7fb5-4580-b2a1-f065327d43a9",
   "metadata": {
    "execution": {
     "iopub.execute_input": "2023-03-05T19:44:12.641001Z",
     "iopub.status.busy": "2023-03-05T19:44:12.640003Z",
     "iopub.status.idle": "2023-03-05T19:44:12.664987Z",
     "shell.execute_reply": "2023-03-05T19:44:12.662989Z",
     "shell.execute_reply.started": "2023-03-05T19:44:12.641001Z"
    },
    "tags": []
   },
   "outputs": [
    {
     "name": "stdout",
     "output_type": "stream",
     "text": [
      "((), {'sequential_9_input': TensorSpec(shape=(None, 224, 224, 3), dtype=tf.float32, name='sequential_9_input')})\n"
     ]
    }
   ],
   "source": [
    "print(infer.structured_input_signature)"
   ]
  },
  {
   "cell_type": "code",
   "execution_count": 157,
   "id": "aacd1f73-0658-4996-a459-d5ac8be4240d",
   "metadata": {
    "execution": {
     "iopub.execute_input": "2023-03-05T19:44:34.567372Z",
     "iopub.status.busy": "2023-03-05T19:44:34.566368Z",
     "iopub.status.idle": "2023-03-05T19:44:34.577365Z",
     "shell.execute_reply": "2023-03-05T19:44:34.575363Z",
     "shell.execute_reply.started": "2023-03-05T19:44:34.567372Z"
    }
   },
   "outputs": [
    {
     "name": "stdout",
     "output_type": "stream",
     "text": [
      "{'dense_5': TensorSpec(shape=(None, 2), dtype=tf.float32, name='dense_5')}\n"
     ]
    }
   ],
   "source": [
    "print(infer.structured_outputs)"
   ]
  },
  {
   "cell_type": "markdown",
   "id": "ba041162-6bb6-48b3-8c11-22fe2b6a5072",
   "metadata": {},
   "source": [
    "### Convert Using TFLite's Converter"
   ]
  },
  {
   "cell_type": "code",
   "execution_count": 159,
   "id": "6467d0b3-99fd-4e0e-8e7a-932b8260d14e",
   "metadata": {
    "execution": {
     "iopub.execute_input": "2023-03-05T19:46:36.093570Z",
     "iopub.status.busy": "2023-03-05T19:46:36.091569Z",
     "iopub.status.idle": "2023-03-05T19:46:49.210788Z",
     "shell.execute_reply": "2023-03-05T19:46:49.208805Z",
     "shell.execute_reply.started": "2023-03-05T19:46:36.093570Z"
    },
    "tags": []
   },
   "outputs": [
    {
     "data": {
      "text/plain": [
       "<tensorflow.lite.python.lite.TFLiteSavedModelConverterV2 at 0x2d740a297f0>"
      ]
     },
     "execution_count": 159,
     "metadata": {},
     "output_type": "execute_result"
    }
   ],
   "source": [
    "converter = tf.lite.TFLiteConverter.from_saved_model(CATS_VS_DOGS_SAVED_MODEL)\n",
    "converter"
   ]
  },
  {
   "cell_type": "code",
   "execution_count": null,
   "id": "739defe4-31ce-4e0f-b07c-3ff5336ce9c3",
   "metadata": {},
   "outputs": [],
   "source": []
  },
  {
   "cell_type": "code",
   "execution_count": null,
   "id": "24035dba-ccff-444b-9273-617720bcfd0d",
   "metadata": {},
   "outputs": [],
   "source": []
  },
  {
   "cell_type": "code",
   "execution_count": null,
   "id": "480c2035-c310-4fb0-a8ee-e29c2a3bf4dd",
   "metadata": {},
   "outputs": [],
   "source": []
  },
  {
   "cell_type": "code",
   "execution_count": null,
   "id": "6c450278-5960-478c-b3b3-cb6f5d993531",
   "metadata": {},
   "outputs": [],
   "source": []
  },
  {
   "cell_type": "code",
   "execution_count": null,
   "id": "e56b37bc-e101-48b4-99a8-8e966d55d048",
   "metadata": {},
   "outputs": [],
   "source": []
  },
  {
   "cell_type": "code",
   "execution_count": null,
   "id": "ddc1f53d-a1cc-4d73-97ab-f4dcc4d934d2",
   "metadata": {},
   "outputs": [],
   "source": []
  },
  {
   "cell_type": "code",
   "execution_count": null,
   "id": "c399c7e9-7194-411e-953b-6e71b37cefa6",
   "metadata": {},
   "outputs": [],
   "source": []
  },
  {
   "cell_type": "code",
   "execution_count": null,
   "id": "90b69155-d069-4dd9-b971-cc64af7ebed2",
   "metadata": {},
   "outputs": [],
   "source": []
  },
  {
   "cell_type": "code",
   "execution_count": null,
   "id": "53f32364-8c1e-4fe0-be83-51f55c9fba60",
   "metadata": {},
   "outputs": [],
   "source": []
  },
  {
   "cell_type": "code",
   "execution_count": null,
   "id": "30917778-88af-4b6e-bcfa-ea9ef8e601a9",
   "metadata": {
    "execution": {
     "iopub.status.busy": "2023-03-05T11:53:22.932432Z",
     "iopub.status.idle": "2023-03-05T11:53:22.934432Z",
     "shell.execute_reply": "2023-03-05T11:53:22.933433Z",
     "shell.execute_reply.started": "2023-03-05T11:53:22.933433Z"
    }
   },
   "outputs": [],
   "source": [
    "# # import shutil\n",
    "# shutil.rmtree('./data/' + fname)"
   ]
  },
  {
   "cell_type": "code",
   "execution_count": null,
   "id": "c05113c9-e1c1-4ee0-84be-c7cf2fecb065",
   "metadata": {},
   "outputs": [],
   "source": []
  },
  {
   "cell_type": "code",
   "execution_count": null,
   "id": "787bdf4c-cb52-4a16-9e66-da48508cde32",
   "metadata": {
    "tags": []
   },
   "outputs": [],
   "source": []
  },
  {
   "cell_type": "code",
   "execution_count": null,
   "id": "01a53ad9-9f3b-4b55-acd3-6460a1b41b02",
   "metadata": {},
   "outputs": [],
   "source": []
  },
  {
   "cell_type": "code",
   "execution_count": null,
   "id": "a73e2c16-910c-4d22-8a8d-50d01b9b182e",
   "metadata": {},
   "outputs": [],
   "source": []
  },
  {
   "cell_type": "code",
   "execution_count": null,
   "id": "9cdd71a9-bc16-4a13-99c7-10ee8ef53aaf",
   "metadata": {},
   "outputs": [],
   "source": []
  },
  {
   "cell_type": "code",
   "execution_count": null,
   "id": "da1ca7f6-3657-4863-8d8a-803f6cc13c63",
   "metadata": {},
   "outputs": [],
   "source": []
  },
  {
   "cell_type": "code",
   "execution_count": null,
   "id": "016c3169-3194-4470-9f0b-ffe3cadeabe4",
   "metadata": {},
   "outputs": [],
   "source": []
  },
  {
   "cell_type": "code",
   "execution_count": null,
   "id": "9005533a-88e0-4ea2-b42b-dd050f52be1a",
   "metadata": {},
   "outputs": [],
   "source": []
  },
  {
   "cell_type": "code",
   "execution_count": null,
   "id": "1f215f59-78b0-47fa-8a92-07f08a9dcf68",
   "metadata": {},
   "outputs": [],
   "source": []
  },
  {
   "cell_type": "code",
   "execution_count": null,
   "id": "214d5795-ce90-44ae-b7d1-76232a5e8934",
   "metadata": {},
   "outputs": [],
   "source": []
  },
  {
   "cell_type": "code",
   "execution_count": null,
   "id": "fce524a0-59a9-4ef7-bb01-15198e49616c",
   "metadata": {},
   "outputs": [],
   "source": []
  },
  {
   "cell_type": "code",
   "execution_count": null,
   "id": "d8f9e6fd-823b-4d3e-8471-d864625ccf80",
   "metadata": {},
   "outputs": [],
   "source": []
  },
  {
   "cell_type": "code",
   "execution_count": null,
   "id": "921613e8-dd86-4e0f-9102-6180449a911b",
   "metadata": {},
   "outputs": [],
   "source": []
  },
  {
   "cell_type": "code",
   "execution_count": null,
   "id": "b972b8f0-69e3-4254-a521-4ca14ce5d7ca",
   "metadata": {},
   "outputs": [],
   "source": []
  },
  {
   "cell_type": "code",
   "execution_count": null,
   "id": "a860968b-4ea9-44c2-af5c-77d460b5d60e",
   "metadata": {},
   "outputs": [],
   "source": []
  },
  {
   "cell_type": "code",
   "execution_count": null,
   "id": "6d1d3cc3-f122-486c-bf67-54d1c12c157d",
   "metadata": {},
   "outputs": [],
   "source": []
  },
  {
   "cell_type": "code",
   "execution_count": null,
   "id": "b1fbe6a0-f1fd-4af0-851e-d03ee9e95bb3",
   "metadata": {},
   "outputs": [],
   "source": []
  },
  {
   "cell_type": "code",
   "execution_count": null,
   "id": "94414da1-c9da-4c66-a5ad-d88d1ed06845",
   "metadata": {},
   "outputs": [],
   "source": []
  },
  {
   "cell_type": "code",
   "execution_count": null,
   "id": "c7aa1078-f589-402a-993d-7b351291a813",
   "metadata": {},
   "outputs": [],
   "source": []
  },
  {
   "cell_type": "code",
   "execution_count": null,
   "id": "b8b19a83-e3d6-4f46-8f7c-e45afc78bbd2",
   "metadata": {},
   "outputs": [],
   "source": []
  },
  {
   "cell_type": "code",
   "execution_count": null,
   "id": "a8628739-61cb-4157-9002-92383bfce3ad",
   "metadata": {},
   "outputs": [],
   "source": []
  },
  {
   "cell_type": "code",
   "execution_count": null,
   "id": "d376e1ee-8e80-471a-95bb-66d26e1da704",
   "metadata": {},
   "outputs": [],
   "source": []
  },
  {
   "cell_type": "code",
   "execution_count": null,
   "id": "2e334d69-c7d3-45dd-9102-1e8a79bf2d97",
   "metadata": {},
   "outputs": [],
   "source": []
  },
  {
   "cell_type": "code",
   "execution_count": null,
   "id": "d10399db-1c2d-44ee-800d-788952b986f0",
   "metadata": {},
   "outputs": [],
   "source": []
  },
  {
   "cell_type": "code",
   "execution_count": null,
   "id": "63b315a8-4389-450c-bc16-d08d768d3fee",
   "metadata": {},
   "outputs": [],
   "source": []
  },
  {
   "cell_type": "code",
   "execution_count": null,
   "id": "cafaf732-5d1f-4b16-8ec3-23fbdd2d7dac",
   "metadata": {},
   "outputs": [],
   "source": []
  },
  {
   "cell_type": "code",
   "execution_count": null,
   "id": "756c11ff-4856-4c71-b6e6-ce3dcfbdce3c",
   "metadata": {},
   "outputs": [],
   "source": []
  },
  {
   "cell_type": "code",
   "execution_count": null,
   "id": "a69b683c-7382-4c92-af63-dfab27ca883e",
   "metadata": {},
   "outputs": [],
   "source": []
  },
  {
   "cell_type": "code",
   "execution_count": null,
   "id": "57715fc2-fd95-4377-b4f1-2954e02e1fb9",
   "metadata": {},
   "outputs": [],
   "source": []
  },
  {
   "cell_type": "code",
   "execution_count": null,
   "id": "666e048e-1026-450e-85ad-a690dcb734f9",
   "metadata": {},
   "outputs": [],
   "source": []
  },
  {
   "cell_type": "code",
   "execution_count": null,
   "id": "ef3d499e-afdd-4ce5-9118-3c97117ee38b",
   "metadata": {},
   "outputs": [],
   "source": []
  },
  {
   "cell_type": "code",
   "execution_count": null,
   "id": "d84e87ab-22fd-4dcc-b07c-89d5855ca0dd",
   "metadata": {},
   "outputs": [],
   "source": []
  },
  {
   "cell_type": "code",
   "execution_count": null,
   "id": "f12f03d0-e882-4c46-9782-7abe3ac20370",
   "metadata": {},
   "outputs": [],
   "source": []
  },
  {
   "cell_type": "code",
   "execution_count": null,
   "id": "20c6d76c-ff25-4e5e-b20b-f91fc78b8b32",
   "metadata": {},
   "outputs": [],
   "source": []
  },
  {
   "cell_type": "code",
   "execution_count": null,
   "id": "8d007220-b408-4814-bddd-4ab81b8b3175",
   "metadata": {},
   "outputs": [],
   "source": []
  },
  {
   "cell_type": "code",
   "execution_count": null,
   "id": "c6803a42-7364-4045-849d-fcd65fc0a6af",
   "metadata": {},
   "outputs": [],
   "source": []
  },
  {
   "cell_type": "code",
   "execution_count": null,
   "id": "30c84a2f-49f2-4c23-8040-a0e491ee0b6f",
   "metadata": {},
   "outputs": [],
   "source": []
  },
  {
   "cell_type": "code",
   "execution_count": null,
   "id": "c8cc6e3f-fabf-4a30-bd57-9bf93a152702",
   "metadata": {},
   "outputs": [],
   "source": []
  },
  {
   "cell_type": "code",
   "execution_count": null,
   "id": "a43cce25-fa63-4f33-b30d-6689a6709b0c",
   "metadata": {},
   "outputs": [],
   "source": []
  },
  {
   "cell_type": "code",
   "execution_count": null,
   "id": "27c2c907-a975-45fb-b606-8fc6d0d67c93",
   "metadata": {},
   "outputs": [],
   "source": []
  },
  {
   "cell_type": "code",
   "execution_count": null,
   "id": "7d4042bc-ebf6-4e0e-849e-034142116522",
   "metadata": {},
   "outputs": [],
   "source": []
  },
  {
   "cell_type": "code",
   "execution_count": null,
   "id": "08b870a0-d2f5-46e5-a7c7-1ffba7463d92",
   "metadata": {},
   "outputs": [],
   "source": []
  },
  {
   "cell_type": "code",
   "execution_count": null,
   "id": "fe2c4e02-9ae7-4530-a6e6-5b36520ad836",
   "metadata": {},
   "outputs": [],
   "source": []
  },
  {
   "cell_type": "code",
   "execution_count": null,
   "id": "189a097e-d11b-405c-a2a3-bb72b8dbb713",
   "metadata": {},
   "outputs": [],
   "source": []
  },
  {
   "cell_type": "code",
   "execution_count": null,
   "id": "eff02970-2676-4e68-b456-d49dc7dde4ef",
   "metadata": {},
   "outputs": [],
   "source": []
  },
  {
   "cell_type": "code",
   "execution_count": null,
   "id": "6259b3cf-64ad-448d-b88f-51b8b41c13f1",
   "metadata": {},
   "outputs": [],
   "source": []
  },
  {
   "cell_type": "code",
   "execution_count": null,
   "id": "3d5158df-badc-4eb3-acbb-e1b5a1769cf8",
   "metadata": {},
   "outputs": [],
   "source": []
  },
  {
   "cell_type": "code",
   "execution_count": null,
   "id": "f7495ef8-1f2a-4959-96c1-f5aa65e4e37b",
   "metadata": {},
   "outputs": [],
   "source": []
  },
  {
   "cell_type": "code",
   "execution_count": null,
   "id": "e1e17b19-b090-4374-94e3-126274a0f9b6",
   "metadata": {},
   "outputs": [],
   "source": []
  },
  {
   "cell_type": "code",
   "execution_count": null,
   "id": "7965e2cb-31c4-4662-8626-bcd55c54e4bd",
   "metadata": {},
   "outputs": [],
   "source": []
  },
  {
   "cell_type": "code",
   "execution_count": null,
   "id": "8365b02e-870e-4d7d-aebd-8b4402f0ffe0",
   "metadata": {},
   "outputs": [],
   "source": []
  },
  {
   "cell_type": "code",
   "execution_count": null,
   "id": "7c34b87a-b8d3-4791-aaf3-e758b15f0990",
   "metadata": {},
   "outputs": [],
   "source": []
  },
  {
   "cell_type": "code",
   "execution_count": null,
   "id": "90f7b5a6-4cb6-4f9e-9842-f8005fa3be27",
   "metadata": {},
   "outputs": [],
   "source": []
  },
  {
   "cell_type": "code",
   "execution_count": null,
   "id": "254ed3ea-20a8-4211-90e9-eaea9a9dabb8",
   "metadata": {},
   "outputs": [],
   "source": []
  },
  {
   "cell_type": "code",
   "execution_count": null,
   "id": "fd0f2c11-a275-4a1c-bfda-febd5f06ca4b",
   "metadata": {},
   "outputs": [],
   "source": []
  },
  {
   "cell_type": "code",
   "execution_count": null,
   "id": "3a3e3ab3-5152-4288-be4c-d6ad560c5bae",
   "metadata": {},
   "outputs": [],
   "source": []
  },
  {
   "cell_type": "code",
   "execution_count": null,
   "id": "fed99a65-bd11-4b92-83be-c19a82073b46",
   "metadata": {},
   "outputs": [],
   "source": []
  },
  {
   "cell_type": "code",
   "execution_count": null,
   "id": "458b8993-cdc5-4989-8e68-ce6258a59c55",
   "metadata": {},
   "outputs": [],
   "source": []
  },
  {
   "cell_type": "code",
   "execution_count": null,
   "id": "e2ea7a73-84f9-44df-9de2-76694d59eea9",
   "metadata": {},
   "outputs": [],
   "source": []
  },
  {
   "cell_type": "code",
   "execution_count": null,
   "id": "db030623-4f54-4458-b40a-5c70f7222823",
   "metadata": {},
   "outputs": [],
   "source": []
  },
  {
   "cell_type": "code",
   "execution_count": null,
   "id": "eeb53636-a7c3-42ca-bbe8-8afc31b78ccf",
   "metadata": {},
   "outputs": [],
   "source": []
  },
  {
   "cell_type": "code",
   "execution_count": null,
   "id": "6a3571f8-50fd-453a-afab-eb7b26b71716",
   "metadata": {},
   "outputs": [],
   "source": []
  },
  {
   "cell_type": "code",
   "execution_count": null,
   "id": "69edcc6c-bc53-42b9-ab66-b7041f530430",
   "metadata": {},
   "outputs": [],
   "source": []
  },
  {
   "cell_type": "code",
   "execution_count": null,
   "id": "556be1ce-dcbc-4ac6-be88-fc48e7a047b3",
   "metadata": {},
   "outputs": [],
   "source": []
  },
  {
   "cell_type": "code",
   "execution_count": null,
   "id": "88bad15e-b93a-4d5c-b050-9a3b4e904f1f",
   "metadata": {},
   "outputs": [],
   "source": []
  },
  {
   "cell_type": "code",
   "execution_count": null,
   "id": "7062d190-9775-4dc1-bcce-fcba47cd8d1b",
   "metadata": {},
   "outputs": [],
   "source": []
  },
  {
   "cell_type": "code",
   "execution_count": null,
   "id": "9729293c-915c-48e6-ae8d-e29e7ca65057",
   "metadata": {},
   "outputs": [],
   "source": []
  },
  {
   "cell_type": "code",
   "execution_count": null,
   "id": "05579eef-4790-4449-b149-403ad26677cb",
   "metadata": {},
   "outputs": [],
   "source": []
  },
  {
   "cell_type": "code",
   "execution_count": null,
   "id": "b3e65c47-181d-421c-b922-70a1b3334dd7",
   "metadata": {},
   "outputs": [],
   "source": []
  },
  {
   "cell_type": "code",
   "execution_count": null,
   "id": "d14efbcc-a13b-4af5-ade1-ceb94de506b6",
   "metadata": {},
   "outputs": [],
   "source": []
  },
  {
   "cell_type": "code",
   "execution_count": null,
   "id": "81ebf365-5da3-416d-8616-522f385e27a3",
   "metadata": {},
   "outputs": [],
   "source": []
  },
  {
   "cell_type": "code",
   "execution_count": null,
   "id": "48763784-f58d-488e-b265-73c721489ae3",
   "metadata": {},
   "outputs": [],
   "source": []
  },
  {
   "cell_type": "code",
   "execution_count": null,
   "id": "a41ba07f-9563-496a-9720-8a5399441ab7",
   "metadata": {},
   "outputs": [],
   "source": []
  },
  {
   "cell_type": "code",
   "execution_count": null,
   "id": "852fb904-5e89-4eb0-acd1-5dbae2fc2ce3",
   "metadata": {},
   "outputs": [],
   "source": []
  },
  {
   "cell_type": "code",
   "execution_count": null,
   "id": "b53cd400-9e78-49fa-a419-8cf791611578",
   "metadata": {},
   "outputs": [],
   "source": []
  },
  {
   "cell_type": "code",
   "execution_count": null,
   "id": "2175106c-7f1a-444f-82c9-0372205b4f8b",
   "metadata": {},
   "outputs": [],
   "source": []
  },
  {
   "cell_type": "code",
   "execution_count": null,
   "id": "7379e3c3-17ed-4858-9073-c94684bcd616",
   "metadata": {},
   "outputs": [],
   "source": []
  },
  {
   "cell_type": "code",
   "execution_count": null,
   "id": "b885c0a6-8b5b-456e-a30b-deee3173f257",
   "metadata": {},
   "outputs": [],
   "source": []
  },
  {
   "cell_type": "code",
   "execution_count": null,
   "id": "64d3c052-b697-4b5a-bc55-3d9416878b2e",
   "metadata": {},
   "outputs": [],
   "source": []
  },
  {
   "cell_type": "code",
   "execution_count": null,
   "id": "f50db193-55a7-4554-a50e-47fdec39daa8",
   "metadata": {},
   "outputs": [],
   "source": []
  },
  {
   "cell_type": "code",
   "execution_count": null,
   "id": "b5b04be0-8e19-4a54-a5db-7f26142cc861",
   "metadata": {},
   "outputs": [],
   "source": []
  },
  {
   "cell_type": "code",
   "execution_count": null,
   "id": "8a4e5995-5b51-4b02-b00a-d09399596d0b",
   "metadata": {},
   "outputs": [],
   "source": []
  },
  {
   "cell_type": "code",
   "execution_count": null,
   "id": "3fe9d86f-adc2-411d-ad95-1ab2e12fba40",
   "metadata": {},
   "outputs": [],
   "source": []
  },
  {
   "cell_type": "code",
   "execution_count": null,
   "id": "60363eca-30af-4a68-b2f5-8d76cdd592ba",
   "metadata": {},
   "outputs": [],
   "source": []
  },
  {
   "cell_type": "code",
   "execution_count": null,
   "id": "ceb4249f-d83d-4087-b8ef-3d87f018e2f5",
   "metadata": {},
   "outputs": [],
   "source": []
  },
  {
   "cell_type": "code",
   "execution_count": null,
   "id": "75840c2a-dc51-4ace-92e8-5198b7c926ba",
   "metadata": {},
   "outputs": [],
   "source": []
  },
  {
   "cell_type": "code",
   "execution_count": null,
   "id": "39ae3f81-cb28-4106-b315-9e773f69e81d",
   "metadata": {},
   "outputs": [],
   "source": []
  },
  {
   "cell_type": "code",
   "execution_count": null,
   "id": "e1359136-662d-4687-a986-75c104ae13d2",
   "metadata": {},
   "outputs": [],
   "source": []
  },
  {
   "cell_type": "code",
   "execution_count": null,
   "id": "da3cb4e2-7b3b-470c-8c88-2a3c00737ec7",
   "metadata": {},
   "outputs": [],
   "source": []
  },
  {
   "cell_type": "code",
   "execution_count": null,
   "id": "96ac752a-7a62-47de-8d62-3110274afc1b",
   "metadata": {},
   "outputs": [],
   "source": []
  },
  {
   "cell_type": "code",
   "execution_count": null,
   "id": "c5d96735-deff-4c21-8517-d98597cf84d7",
   "metadata": {},
   "outputs": [],
   "source": []
  },
  {
   "cell_type": "code",
   "execution_count": null,
   "id": "bc2ad7bd-bb01-4358-bf51-e43dcfff677b",
   "metadata": {},
   "outputs": [],
   "source": []
  },
  {
   "cell_type": "code",
   "execution_count": null,
   "id": "8bf65937-b49e-4688-90d4-be632243dd8e",
   "metadata": {},
   "outputs": [],
   "source": []
  },
  {
   "cell_type": "code",
   "execution_count": null,
   "id": "5a50693e-e472-43a2-9ea6-1c022d05b7d0",
   "metadata": {},
   "outputs": [],
   "source": []
  },
  {
   "cell_type": "code",
   "execution_count": null,
   "id": "02940f58-e8d3-489d-8bd8-f8dab2dc7a70",
   "metadata": {},
   "outputs": [],
   "source": []
  },
  {
   "cell_type": "code",
   "execution_count": null,
   "id": "002f673e-435c-4e3c-825b-101ecdff8d57",
   "metadata": {},
   "outputs": [],
   "source": []
  },
  {
   "cell_type": "code",
   "execution_count": null,
   "id": "57c43e8e-fe84-4d34-bbab-fcdec84781a2",
   "metadata": {},
   "outputs": [],
   "source": []
  },
  {
   "cell_type": "code",
   "execution_count": null,
   "id": "574e1663-335c-47e8-8c61-8d57bd056401",
   "metadata": {},
   "outputs": [],
   "source": []
  },
  {
   "cell_type": "code",
   "execution_count": null,
   "id": "ea5e4edd-391a-4b63-bb7a-9d3f18fbb1b0",
   "metadata": {},
   "outputs": [],
   "source": []
  },
  {
   "cell_type": "code",
   "execution_count": null,
   "id": "371dfbb4-c413-4219-b5b7-77bb30b7bc36",
   "metadata": {},
   "outputs": [],
   "source": []
  },
  {
   "cell_type": "code",
   "execution_count": null,
   "id": "98806b24-b7ab-48d3-9635-b26ae7602194",
   "metadata": {},
   "outputs": [],
   "source": []
  },
  {
   "cell_type": "code",
   "execution_count": null,
   "id": "6482083b-879f-479d-b25f-635ce67ee6af",
   "metadata": {},
   "outputs": [],
   "source": []
  },
  {
   "cell_type": "code",
   "execution_count": null,
   "id": "adfe2f18-7568-4006-91d9-c30cdd7db1b6",
   "metadata": {},
   "outputs": [],
   "source": []
  },
  {
   "cell_type": "code",
   "execution_count": null,
   "id": "0e507fb6-911d-4d4e-89a8-752e892aef05",
   "metadata": {},
   "outputs": [],
   "source": []
  },
  {
   "cell_type": "code",
   "execution_count": null,
   "id": "87df78e6-86d9-4355-8c67-5dcffb498a17",
   "metadata": {},
   "outputs": [],
   "source": []
  },
  {
   "cell_type": "code",
   "execution_count": null,
   "id": "e2898e7a-10c1-4e10-8154-fc9a68f91dc0",
   "metadata": {},
   "outputs": [],
   "source": []
  },
  {
   "cell_type": "code",
   "execution_count": null,
   "id": "87a0f4a2-527a-4668-a177-b708d07e3a14",
   "metadata": {},
   "outputs": [],
   "source": []
  },
  {
   "cell_type": "code",
   "execution_count": null,
   "id": "abe9c159-6d80-440c-a3fc-891462b5d01e",
   "metadata": {},
   "outputs": [],
   "source": []
  },
  {
   "cell_type": "code",
   "execution_count": null,
   "id": "1310a42c-cb95-4dd7-9d71-8869de1ef9a4",
   "metadata": {},
   "outputs": [],
   "source": []
  },
  {
   "cell_type": "code",
   "execution_count": null,
   "id": "fd864f07-7984-4376-9210-b399538c9f96",
   "metadata": {},
   "outputs": [],
   "source": []
  },
  {
   "cell_type": "code",
   "execution_count": null,
   "id": "fcb26aeb-5961-4d25-9b2a-a256057c8085",
   "metadata": {},
   "outputs": [],
   "source": []
  },
  {
   "cell_type": "code",
   "execution_count": null,
   "id": "c3e2ca82-35ce-409d-89c6-e7224aab4144",
   "metadata": {},
   "outputs": [],
   "source": []
  },
  {
   "cell_type": "code",
   "execution_count": null,
   "id": "f089134c-1125-432c-b194-80ccc2a95edd",
   "metadata": {},
   "outputs": [],
   "source": []
  },
  {
   "cell_type": "code",
   "execution_count": null,
   "id": "2e9f2c9b-401f-4587-ac2b-407e2ac912c7",
   "metadata": {},
   "outputs": [],
   "source": []
  },
  {
   "cell_type": "code",
   "execution_count": null,
   "id": "bcd7a1bf-8be7-4bd0-9491-8e026007ee4c",
   "metadata": {},
   "outputs": [],
   "source": []
  },
  {
   "cell_type": "code",
   "execution_count": null,
   "id": "33a11756-adbe-4035-8d0b-2abdd3c368fa",
   "metadata": {},
   "outputs": [],
   "source": []
  },
  {
   "cell_type": "code",
   "execution_count": null,
   "id": "f7f18018-29b1-46d2-a530-1f51132c0b96",
   "metadata": {},
   "outputs": [],
   "source": []
  },
  {
   "cell_type": "code",
   "execution_count": null,
   "id": "35b50a12-7e29-41e7-b320-b7fbfd883106",
   "metadata": {},
   "outputs": [],
   "source": []
  },
  {
   "cell_type": "code",
   "execution_count": null,
   "id": "25440ff5-c9c7-474b-acd3-6d5da77b0b4d",
   "metadata": {},
   "outputs": [],
   "source": []
  },
  {
   "cell_type": "code",
   "execution_count": null,
   "id": "01e4f8d1-3028-4891-a55c-858507ea8a7a",
   "metadata": {},
   "outputs": [],
   "source": []
  },
  {
   "cell_type": "code",
   "execution_count": null,
   "id": "bc13869a-5844-4002-927d-d2556679e8fe",
   "metadata": {},
   "outputs": [],
   "source": []
  },
  {
   "cell_type": "code",
   "execution_count": null,
   "id": "636657ba-5b11-4598-bd2d-9871bfb74f5f",
   "metadata": {},
   "outputs": [],
   "source": []
  },
  {
   "cell_type": "code",
   "execution_count": null,
   "id": "113b7e33-0649-4703-8df0-22d2209b4424",
   "metadata": {},
   "outputs": [],
   "source": []
  },
  {
   "cell_type": "code",
   "execution_count": null,
   "id": "eddd02c3-f239-4bca-8cee-ce43bad914bf",
   "metadata": {},
   "outputs": [],
   "source": []
  },
  {
   "cell_type": "code",
   "execution_count": null,
   "id": "e4109b23-2697-44aa-ae5d-04f11efba04c",
   "metadata": {},
   "outputs": [],
   "source": []
  },
  {
   "cell_type": "code",
   "execution_count": null,
   "id": "208c5b9a-bcad-483c-a0db-f78c13216cdb",
   "metadata": {},
   "outputs": [],
   "source": []
  },
  {
   "cell_type": "code",
   "execution_count": null,
   "id": "c2edad71-5ec8-428a-9553-bf962d233942",
   "metadata": {},
   "outputs": [],
   "source": []
  },
  {
   "cell_type": "code",
   "execution_count": null,
   "id": "02bf27bb-81ff-49a9-ba77-fc4dde7a4ef4",
   "metadata": {},
   "outputs": [],
   "source": []
  },
  {
   "cell_type": "code",
   "execution_count": null,
   "id": "ef18a5f1-1bf8-441d-9db1-48bae1dbe857",
   "metadata": {},
   "outputs": [],
   "source": []
  },
  {
   "cell_type": "code",
   "execution_count": null,
   "id": "cccb3502-f7c2-4aff-adbe-af63b9179437",
   "metadata": {},
   "outputs": [],
   "source": []
  },
  {
   "cell_type": "code",
   "execution_count": null,
   "id": "afef19f1-3e10-46d0-a0aa-79c5a0e0a69a",
   "metadata": {},
   "outputs": [],
   "source": []
  },
  {
   "cell_type": "code",
   "execution_count": null,
   "id": "d6271098-ae4d-4767-af6d-1ce76fc75077",
   "metadata": {},
   "outputs": [],
   "source": []
  },
  {
   "cell_type": "code",
   "execution_count": null,
   "id": "1c6ad9bb-9692-4089-b428-f43bab763de7",
   "metadata": {},
   "outputs": [],
   "source": []
  },
  {
   "cell_type": "code",
   "execution_count": null,
   "id": "52fd5ce3-bf2c-4eec-96e1-4420748ecce9",
   "metadata": {},
   "outputs": [],
   "source": []
  },
  {
   "cell_type": "code",
   "execution_count": null,
   "id": "e17c3081-a13a-470d-ae28-9e3f643d4862",
   "metadata": {},
   "outputs": [],
   "source": []
  },
  {
   "cell_type": "code",
   "execution_count": null,
   "id": "040dbcc9-77e8-4d78-ae69-773bd7d84e2f",
   "metadata": {},
   "outputs": [],
   "source": []
  },
  {
   "cell_type": "code",
   "execution_count": null,
   "id": "65969bdb-19a9-45a1-ae1c-120262ca7663",
   "metadata": {},
   "outputs": [],
   "source": []
  },
  {
   "cell_type": "code",
   "execution_count": null,
   "id": "1cb1c6c2-ed37-4b0b-8062-0b330a59cf07",
   "metadata": {},
   "outputs": [],
   "source": []
  },
  {
   "cell_type": "code",
   "execution_count": null,
   "id": "8bed39fb-5918-4ccb-8903-9702299d03f1",
   "metadata": {},
   "outputs": [],
   "source": []
  },
  {
   "cell_type": "code",
   "execution_count": null,
   "id": "547e747e-1c39-4f2f-bcb9-27afcd4b075f",
   "metadata": {},
   "outputs": [],
   "source": []
  },
  {
   "cell_type": "code",
   "execution_count": null,
   "id": "2cf6c400-692a-40d1-a1a0-6504dca4c962",
   "metadata": {},
   "outputs": [],
   "source": []
  },
  {
   "cell_type": "code",
   "execution_count": null,
   "id": "e1d6ccdf-cd3b-4c90-8d3a-f4b52ffb5f7b",
   "metadata": {},
   "outputs": [],
   "source": []
  },
  {
   "cell_type": "code",
   "execution_count": null,
   "id": "1fbe5133-b29d-4d79-a183-ff0051aaf342",
   "metadata": {},
   "outputs": [],
   "source": []
  },
  {
   "cell_type": "code",
   "execution_count": null,
   "id": "89ea71e8-c613-49d6-84ee-c73f92ef6f68",
   "metadata": {},
   "outputs": [],
   "source": []
  },
  {
   "cell_type": "code",
   "execution_count": null,
   "id": "dba52782-0de6-4ec0-81db-1b408043808a",
   "metadata": {},
   "outputs": [],
   "source": []
  },
  {
   "cell_type": "code",
   "execution_count": null,
   "id": "e019b3b4-3c8a-4c62-9e8c-28a3d904b082",
   "metadata": {},
   "outputs": [],
   "source": []
  },
  {
   "cell_type": "code",
   "execution_count": null,
   "id": "10fd0638-e022-46f5-8608-941b747ec618",
   "metadata": {},
   "outputs": [],
   "source": []
  },
  {
   "cell_type": "code",
   "execution_count": null,
   "id": "d7b7cd1d-0088-44ee-9b48-b3ced11a43f1",
   "metadata": {},
   "outputs": [],
   "source": []
  },
  {
   "cell_type": "code",
   "execution_count": null,
   "id": "8c74a91e-3c3a-4b53-9dc6-64975167a389",
   "metadata": {},
   "outputs": [],
   "source": []
  },
  {
   "cell_type": "code",
   "execution_count": null,
   "id": "5c4c7905-bf94-4fe8-b22f-9f3450236177",
   "metadata": {},
   "outputs": [],
   "source": []
  },
  {
   "cell_type": "code",
   "execution_count": null,
   "id": "592b1188-a69f-46d3-8bf2-53ab9cc872e6",
   "metadata": {},
   "outputs": [],
   "source": []
  },
  {
   "cell_type": "code",
   "execution_count": null,
   "id": "d7f2c961-43ec-4495-b1fe-ae507c31721d",
   "metadata": {},
   "outputs": [],
   "source": []
  },
  {
   "cell_type": "code",
   "execution_count": null,
   "id": "df180ee5-0f84-4cc9-a777-235102f36c35",
   "metadata": {},
   "outputs": [],
   "source": []
  },
  {
   "cell_type": "code",
   "execution_count": null,
   "id": "f7dba3f5-79fc-4b1f-bd4d-7b52b10be388",
   "metadata": {},
   "outputs": [],
   "source": []
  },
  {
   "cell_type": "code",
   "execution_count": null,
   "id": "489abd09-9f3d-4b76-9459-b076d93cad73",
   "metadata": {},
   "outputs": [],
   "source": []
  },
  {
   "cell_type": "code",
   "execution_count": null,
   "id": "123329f0-200e-492b-9850-a4b5070814b0",
   "metadata": {},
   "outputs": [],
   "source": []
  },
  {
   "cell_type": "code",
   "execution_count": null,
   "id": "bbd7ccf8-0b62-4b5d-906e-fa0d85714839",
   "metadata": {},
   "outputs": [],
   "source": []
  },
  {
   "cell_type": "code",
   "execution_count": null,
   "id": "8bf5895f-df2e-4fb1-b741-0e762536ed74",
   "metadata": {},
   "outputs": [],
   "source": []
  },
  {
   "cell_type": "code",
   "execution_count": null,
   "id": "817f0e9b-11df-4d0c-8a54-37e9acba763c",
   "metadata": {},
   "outputs": [],
   "source": []
  },
  {
   "cell_type": "code",
   "execution_count": null,
   "id": "7980f204-6c2e-44fe-aeae-00083a3fd793",
   "metadata": {},
   "outputs": [],
   "source": []
  },
  {
   "cell_type": "code",
   "execution_count": null,
   "id": "af4f8c59-66bb-46b0-bcc0-7c67271eaca5",
   "metadata": {},
   "outputs": [],
   "source": []
  },
  {
   "cell_type": "code",
   "execution_count": null,
   "id": "c18971cc-80b7-4542-9544-24e4e813cf4f",
   "metadata": {},
   "outputs": [],
   "source": []
  },
  {
   "cell_type": "code",
   "execution_count": null,
   "id": "9137344c-0c9c-48f8-bd72-2f2990bd9e51",
   "metadata": {},
   "outputs": [],
   "source": []
  }
 ],
 "metadata": {
  "kernelspec": {
   "display_name": "venv38",
   "language": "python",
   "name": "venv38"
  },
  "language_info": {
   "codemirror_mode": {
    "name": "ipython",
    "version": 3
   },
   "file_extension": ".py",
   "mimetype": "text/x-python",
   "name": "python",
   "nbconvert_exporter": "python",
   "pygments_lexer": "ipython3",
   "version": "3.8.0"
  }
 },
 "nbformat": 4,
 "nbformat_minor": 5
}
